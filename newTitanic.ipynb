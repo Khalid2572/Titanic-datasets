{
 "cells": [
  {
   "cell_type": "code",
   "execution_count": 193,
   "id": "71f9a433",
   "metadata": {},
   "outputs": [],
   "source": [
    "import pandas as pd\n",
    "\n",
    "data = pd.read_csv(\"train.csv\")\n",
    "test = pd.read_csv(\"test.csv\")\n",
    "test_ids = test[\"PassengerId\"]\n",
    "\n",
    "def clean(data):\n",
    "    data = data.drop([\"Ticket\", \"Cabin\", \"Name\", \"PassengerId\"], axis=1)\n",
    "\n",
    "    cols = [\"Fare\", \"Parch\", \"SibSp\", \"Age\", \"Pclass\"]\n",
    "\n",
    "    for col in cols:\n",
    "        data[col] = data[col].fillna(data[col].median())  \n",
    "\n",
    "    data[\"Embarked\"] = data[\"Embarked\"].fillna(\"U\")      \n",
    "\n",
    "    return data\n",
    "\n",
    "data = clean(data)\n",
    "test = clean(test)\n"
   ]
  },
  {
   "cell_type": "code",
   "execution_count": 194,
   "id": "986a6201",
   "metadata": {},
   "outputs": [
    {
     "data": {
      "text/html": [
       "<div>\n",
       "<style scoped>\n",
       "    .dataframe tbody tr th:only-of-type {\n",
       "        vertical-align: middle;\n",
       "    }\n",
       "\n",
       "    .dataframe tbody tr th {\n",
       "        vertical-align: top;\n",
       "    }\n",
       "\n",
       "    .dataframe thead th {\n",
       "        text-align: right;\n",
       "    }\n",
       "</style>\n",
       "<table border=\"1\" class=\"dataframe\">\n",
       "  <thead>\n",
       "    <tr style=\"text-align: right;\">\n",
       "      <th></th>\n",
       "      <th>Survived</th>\n",
       "      <th>Pclass</th>\n",
       "      <th>Sex</th>\n",
       "      <th>Age</th>\n",
       "      <th>SibSp</th>\n",
       "      <th>Parch</th>\n",
       "      <th>Fare</th>\n",
       "      <th>Embarked</th>\n",
       "    </tr>\n",
       "  </thead>\n",
       "  <tbody>\n",
       "    <tr>\n",
       "      <th>0</th>\n",
       "      <td>0</td>\n",
       "      <td>3</td>\n",
       "      <td>male</td>\n",
       "      <td>22.0</td>\n",
       "      <td>1</td>\n",
       "      <td>0</td>\n",
       "      <td>7.2500</td>\n",
       "      <td>S</td>\n",
       "    </tr>\n",
       "    <tr>\n",
       "      <th>1</th>\n",
       "      <td>1</td>\n",
       "      <td>1</td>\n",
       "      <td>female</td>\n",
       "      <td>38.0</td>\n",
       "      <td>1</td>\n",
       "      <td>0</td>\n",
       "      <td>71.2833</td>\n",
       "      <td>C</td>\n",
       "    </tr>\n",
       "    <tr>\n",
       "      <th>2</th>\n",
       "      <td>1</td>\n",
       "      <td>3</td>\n",
       "      <td>female</td>\n",
       "      <td>26.0</td>\n",
       "      <td>0</td>\n",
       "      <td>0</td>\n",
       "      <td>7.9250</td>\n",
       "      <td>S</td>\n",
       "    </tr>\n",
       "    <tr>\n",
       "      <th>3</th>\n",
       "      <td>1</td>\n",
       "      <td>1</td>\n",
       "      <td>female</td>\n",
       "      <td>35.0</td>\n",
       "      <td>1</td>\n",
       "      <td>0</td>\n",
       "      <td>53.1000</td>\n",
       "      <td>S</td>\n",
       "    </tr>\n",
       "    <tr>\n",
       "      <th>4</th>\n",
       "      <td>0</td>\n",
       "      <td>3</td>\n",
       "      <td>male</td>\n",
       "      <td>35.0</td>\n",
       "      <td>0</td>\n",
       "      <td>0</td>\n",
       "      <td>8.0500</td>\n",
       "      <td>S</td>\n",
       "    </tr>\n",
       "  </tbody>\n",
       "</table>\n",
       "</div>"
      ],
      "text/plain": [
       "   Survived  Pclass     Sex   Age  SibSp  Parch     Fare Embarked\n",
       "0         0       3    male  22.0      1      0   7.2500        S\n",
       "1         1       1  female  38.0      1      0  71.2833        C\n",
       "2         1       3  female  26.0      0      0   7.9250        S\n",
       "3         1       1  female  35.0      1      0  53.1000        S\n",
       "4         0       3    male  35.0      0      0   8.0500        S"
      ]
     },
     "execution_count": 194,
     "metadata": {},
     "output_type": "execute_result"
    }
   ],
   "source": [
    "data.head()"
   ]
  },
  {
   "cell_type": "code",
   "execution_count": 195,
   "id": "31fbe168",
   "metadata": {},
   "outputs": [
    {
     "name": "stdout",
     "output_type": "stream",
     "text": [
      "['female' 'male']\n",
      "['C' 'Q' 'S' 'U']\n"
     ]
    }
   ],
   "source": [
    "from sklearn import preprocessing\n",
    "\n",
    "lable = preprocessing.LabelEncoder()\n",
    "\n",
    "cols = [\"Sex\" , \"Embarked\"]\n",
    "\n",
    "for col in cols:\n",
    "    data[col] = lable.fit_transform(data[col])\n",
    "    test[col] = lable.transform(test[col])\n",
    "    print(lable.classes_) "
   ]
  },
  {
   "cell_type": "code",
   "execution_count": 196,
   "id": "052847b7",
   "metadata": {},
   "outputs": [],
   "source": [
    "from sklearn.linear_model import LogisticRegression\n",
    "from sklearn.ensemble import RandomForestClassifier\n",
    "from sklearn.model_selection import train_test_split\n",
    "\n",
    "X = data.drop(\"Survived\" , axis=1)\n",
    "y = data[\"Survived\"]\n",
    "\n",
    "X_train, X_val , y_train , y_val = train_test_split(X , y , test_size=0.2 , random_state=46)"
   ]
  },
  {
   "cell_type": "code",
   "execution_count": 197,
   "id": "ac91dbf4",
   "metadata": {},
   "outputs": [],
   "source": [
    "clf = LogisticRegression(random_state=0 , max_iter=1000).fit(X_train , y_train)\n",
    "rf = RandomForestClassifier(n_estimators=100, random_state=46)\n"
   ]
  },
  {
   "cell_type": "code",
   "execution_count": 198,
   "id": "6285889f",
   "metadata": {},
   "outputs": [],
   "source": [
    "rf.fit(X_train, y_train)\n",
    "rf_pred = rf.predict(X_val)"
   ]
  },
  {
   "cell_type": "code",
   "execution_count": 199,
   "id": "a416e49f",
   "metadata": {},
   "outputs": [
    {
     "data": {
      "text/plain": [
       "0.8435754189944135"
      ]
     },
     "execution_count": 199,
     "metadata": {},
     "output_type": "execute_result"
    }
   ],
   "source": [
    "prediction = clf.predict(X_val)\n",
    "from sklearn.metrics import accuracy_score\n",
    "\n",
    "accuracy_score(y_val , prediction)"
   ]
  },
  {
   "cell_type": "code",
   "execution_count": 200,
   "id": "59526e97",
   "metadata": {},
   "outputs": [
    {
     "name": "stdout",
     "output_type": "stream",
     "text": [
      "Random Forest Accuracy: 0.8268156424581006\n"
     ]
    }
   ],
   "source": [
    "print(\"Random Forest Accuracy:\", accuracy_score(y_val, rf_pred))\n"
   ]
  },
  {
   "cell_type": "code",
   "execution_count": 201,
   "id": "fdbd02b7",
   "metadata": {},
   "outputs": [],
   "source": [
    "submission_pred = clf.predict(test)\n",
    "submission_pred2 = rf.predict(test)"
   ]
  },
  {
   "cell_type": "code",
   "execution_count": 202,
   "id": "e4e10192",
   "metadata": {},
   "outputs": [],
   "source": [
    "df = pd.DataFrame({\"PassengerId\" : test_ids.values,\n",
    "                   \"Survived\" : submission_pred})\n",
    "df.to_csv(\"LogisticRegressionSubmission.csv\" , index=False)"
   ]
  },
  {
   "cell_type": "code",
   "execution_count": 203,
   "id": "7dfa4a5b",
   "metadata": {},
   "outputs": [],
   "source": [
    "df = pd.DataFrame({\"PassengerId\": test_ids.values,\n",
    "                   \"Survived\": submission_pred})\n",
    "df.to_csv(\"RandomForestSubmission.csv\", index=False)"
   ]
  },
  {
   "cell_type": "code",
   "execution_count": 204,
   "id": "77b25d8f",
   "metadata": {},
   "outputs": [
    {
     "name": "stdout",
     "output_type": "stream",
     "text": [
      "Decision Tree Accuracy: 0.8491620111731844\n",
      "\n",
      "Feature Importances:\n",
      "Pclass: 0.1544\n",
      "Sex: 0.6037\n",
      "Age: 0.0605\n",
      "SibSp: 0.0760\n",
      "Parch: 0.0000\n",
      "Fare: 0.1053\n",
      "Embarked: 0.0000\n"
     ]
    }
   ],
   "source": [
    "from sklearn.tree import DecisionTreeClassifier\n",
    "dt = DecisionTreeClassifier(\n",
    "    max_depth=3,        # Control tree depth to prevent overfitting\n",
    "    min_samples_split=5, # Minimum samples required to split a node\n",
    "    min_samples_leaf=2,  # Minimum samples required at each leaf node\n",
    "    random_state=46\n",
    ")\n",
    "dt.fit(X_train, y_train)\n",
    "dt_pred = dt.predict(X_val)\n",
    "print(\"Decision Tree Accuracy:\", accuracy_score(y_val, dt_pred))\n",
    "print(\"\\nFeature Importances:\")\n",
    "for feature, importance in zip(X.columns, dt.feature_importances_):\n",
    "    print(f\"{feature}: {importance:.4f}\")\n",
    "\n",
    "# Make submission\n",
    "submission_pred = dt.predict(test)\n",
    "\n",
    "df = pd.DataFrame({\"PassengerId\": test_ids.values,\n",
    "                   \"Survived\": submission_pred})\n",
    "df.to_csv(\"DecisionTreeSubmission.csv\", index=False)"
   ]
  },
  {
   "cell_type": "code",
   "execution_count": 205,
   "id": "e797aa5f",
   "metadata": {},
   "outputs": [
    {
     "name": "stdout",
     "output_type": "stream",
     "text": [
      "KNN Accuracy: 0.8547486033519553\n",
      "\n",
      "Finding optimal k:\n",
      "k=1: Accuracy=0.7877\n",
      "k=2: Accuracy=0.7821\n",
      "k=3: Accuracy=0.8324\n",
      "k=4: Accuracy=0.8212\n",
      "k=5: Accuracy=0.8547\n",
      "k=6: Accuracy=0.8324\n",
      "k=7: Accuracy=0.8603\n",
      "k=8: Accuracy=0.8603\n",
      "k=9: Accuracy=0.8547\n",
      "k=10: Accuracy=0.8492\n",
      "k=11: Accuracy=0.8436\n",
      "k=12: Accuracy=0.8492\n",
      "k=13: Accuracy=0.8380\n",
      "k=14: Accuracy=0.8492\n"
     ]
    }
   ],
   "source": [
    "from sklearn.neighbors import KNeighborsClassifier\n",
    "from sklearn.preprocessing import StandardScaler\n",
    "scaler = StandardScaler()\n",
    "\n",
    "data['FamilySize'] = data['SibSp'] + data['Parch']\n",
    "test['FamilySize'] = test['SibSp'] + test['Parch']\n",
    "X = data.drop(\"Survived\", axis=1)\n",
    "X_scaled = scaler.fit_transform(X)\n",
    "test_scaled = scaler.transform(test)\n",
    "\n",
    "y = data[\"Survived\"]\n",
    "\n",
    "# Split data\n",
    "X_train, X_val, y_train, y_val = train_test_split(\n",
    "    X_scaled, y, test_size=0.2, random_state=46\n",
    ")\n",
    "\n",
    "# KNN Classifier\n",
    "knn = KNeighborsClassifier(\n",
    "    n_neighbors=5,      # Number of neighbors to consider\n",
    "    weights='uniform',  # 'uniform' or 'distance'\n",
    "    p=2                 # 2 for Euclidean distance, 1 for Manhattan\n",
    ")\n",
    "knn.fit(X_train, y_train)\n",
    "knn_pred = knn.predict(X_val)\n",
    "print(\"KNN Accuracy:\", accuracy_score(y_val, knn_pred))\n",
    "\n",
    "# Find optimal k (optional)\n",
    "print(\"\\nFinding optimal k:\")\n",
    "for k in range(1, 15):\n",
    "    knn_temp = KNeighborsClassifier(n_neighbors=k)\n",
    "    knn_temp.fit(X_train, y_train)\n",
    "    acc = accuracy_score(y_val, knn_temp.predict(X_val))\n",
    "    print(f\"k={k}: Accuracy={acc:.4f}\")\n",
    "\n",
    "# Make submission with best k\n",
    "best_k = 7  # Change this based on the above results\n",
    "final_knn = KNeighborsClassifier(n_neighbors=best_k)\n",
    "final_knn.fit(X_scaled, y)  # Train on full dataset\n",
    "submission_pred = final_knn.predict(test_scaled)\n",
    "\n",
    "df = pd.DataFrame({\"PassengerId\": test_ids.values,\n",
    "                   \"Survived\": submission_pred})\n",
    "df.to_csv(\"KNN_Submission.csv\", index=False)"
   ]
  }
 ],
 "metadata": {
  "kernelspec": {
   "display_name": "Python 3",
   "language": "python",
   "name": "python3"
  },
  "language_info": {
   "codemirror_mode": {
    "name": "ipython",
    "version": 3
   },
   "file_extension": ".py",
   "mimetype": "text/x-python",
   "name": "python",
   "nbconvert_exporter": "python",
   "pygments_lexer": "ipython3",
   "version": "3.11.9"
  }
 },
 "nbformat": 4,
 "nbformat_minor": 5
}
